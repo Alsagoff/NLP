{
 "cells": [
  {
   "cell_type": "code",
   "execution_count": null,
   "metadata": {},
   "outputs": [],
   "source": [
    "import csv\n",
    "import tracery\n",
    "from tracery.modifiers import base_english\n",
    "import pandas as pd\n",
    "import numpy as np\n",
    "import ipywidgets as ipw\n",
    "from sklearn.feature_extraction.text import TfidfVectorizer\n",
    "from sklearn.feature_extraction.text import TfidfTransformer\n",
    "from sklearn.naive_bayes import GaussianNB\n",
    "from sklearn.decomposition import TruncatedSVD\n",
    "from sklearn.model_selection import train_test_split"
   ]
  },
  {
   "cell_type": "markdown",
   "metadata": {},
   "source": [
    "## Part 1 - Tracery Outfit Builder\n",
    "\n",
    "Run the cells below to generate an outfit. You can also edit the Excel file (wardrobe.csv) to include items from your own wardrobe! Just make sure all the columns have the same total number of rows. If you don't have enough unique items to fill the cells, just repeat them.\n",
    "\n",
    "NB: 'Light' and 'Dark' refers to the colour/shade of the garment. Fill the 'Light' columns with your bright yellows and baby pinks and the 'Dark' columns with your maroons and navys."
   ]
  },
  {
   "cell_type": "code",
   "execution_count": null,
   "metadata": {},
   "outputs": [],
   "source": [
    "#loads in the wardrobe Excel file.\n",
    "\n",
    "with open('wardrobe.csv', 'rb') as m:\n",
    "    wardrobe = np.genfromtxt(m, delimiter = \",\", dtype = \"unicode\", skip_header=1)"
   ]
  },
  {
   "cell_type": "code",
   "execution_count": null,
   "metadata": {},
   "outputs": [],
   "source": [
    "#Formats columns into strings suitable for tracery grammar.\n",
    "\n",
    "light_top = [str(w) for w in wardrobe[:,0]]\n",
    "light_top = \",\".join(light_top)\n",
    "\n",
    "dark_top = [str(w) for w in wardrobe[:,1]]\n",
    "dark_top = \",\".join(dark_top)\n",
    "\n",
    "light_down = [str(w) for w in wardrobe[:,2]]\n",
    "light_down = \",\".join(light_down)\n",
    "\n",
    "dark_down = [str(w) for w in wardrobe[:,3]]\n",
    "dark_down = \",\".join(dark_down)\n",
    "\n",
    "shoes = [str(w) for w in wardrobe[:,4]]\n",
    "shoes = \",\".join(shoes)\n",
    "\n",
    "light_layer = [str(w) for w in wardrobe[:,6]]\n",
    "light_layer = \",\".join(light_layer)\n",
    "\n",
    "dark_layer = [str(w) for w in wardrobe[:,7]]\n",
    "dark_layer = \",\".join(dark_layer)\n",
    "\n",
    "coat = [str(w) for w in wardrobe[:,8]]\n",
    "coat = \",\".join(coat)\n",
    "\n",
    "accessory = [str(w) for w in wardrobe[:,9]]\n",
    "accessory = \",\".join(accessory)"
   ]
  },
  {
   "cell_type": "code",
   "execution_count": null,
   "metadata": {},
   "outputs": [],
   "source": [
    "#Outfit builder.\n",
    "\n",
    "rules = {\n",
    "    'origin': '#[#setLight#][#setDark#][#setShoes#][#setOuter#]story#',\n",
    "    'story' : [\"Start with your #Ltopoption#. Pair it with a #Loption# colour like your #Ldownoption#. For shoes, wear your #shoes#. Layer with your #LLoption#.\"\n",
    "               ,\"Start with your #Dtopoption#. Pair it with a #Doption# colour like your #Ddownoption#. For shoes, wear your #shoes#. Layer with your #DLoption#.\"],\n",
    "    'setLight': [\"[Loption:lighter][Ldownoption:\" + light_down + \"][Ltopoption:\" + light_top + \"]\"],\n",
    "    'setDark': [\"[Doption:darker][Ddownoption:\" + dark_down + \"][Dtopoption:\" + dark_top + \"]\"],\n",
    "    'setShoes' : [\"[Soption:shoe][shoes:\" + shoes + \"]\"],\n",
    "    'setOuter' : [\"[Ooption:layer][LLoption:\" + light_layer + \"][DLoption:\" + dark_layer + \"]\"]\n",
    "}\n",
    "\n",
    "grammar = tracery.Grammar(rules)\n",
    "grammar.add_modifiers(base_english)"
   ]
  },
  {
   "cell_type": "code",
   "execution_count": null,
   "metadata": {},
   "outputs": [],
   "source": [
    "#Run this as many times as you like to keep changing outfits until you find one you like.\n",
    "outfit = (grammar.flatten(\"#origin#\"))\n",
    "print(outfit)"
   ]
  },
  {
   "cell_type": "markdown",
   "metadata": {},
   "source": [
    "## Part 2 - Style Classifier\n",
    "\n",
    "Now that you have an outfit, let's see what style it is. This model can categorise clothing into Formal/Casual/Party. Take this as advice as to whether your look is appropriate for the office, a night out or maybe just the grocery store."
   ]
  },
  {
   "cell_type": "code",
   "execution_count": null,
   "metadata": {},
   "outputs": [],
   "source": [
    "#Loads in the fashion dataset.\n",
    "dataset = pd.read_csv(\"fashiondata.csv\")"
   ]
  },
  {
   "cell_type": "code",
   "execution_count": null,
   "metadata": {},
   "outputs": [],
   "source": [
    "#TF/IDF Vectoriser\n",
    "vectoriser = TfidfVectorizer(lowercase=True, ngram_range=(2, 3))\n",
    "tfidf_model = vectoriser.fit(dataset[\"text\"])"
   ]
  },
  {
   "cell_type": "code",
   "execution_count": null,
   "metadata": {},
   "outputs": [],
   "source": [
    "#Sanity check the scores for each label\n",
    "vectorised_formal = tfidf_model.transform(dataset[dataset[\"label\"] == 'Formal'][\"text\"]).todense()\n",
    "vectorised_casual = tfidf_model.transform(dataset[dataset[\"label\"] == 'Casual'][\"text\"]).todense()\n",
    "vectorised_party = tfidf_model.transform(dataset[dataset[\"label\"] == 'Party'][\"text\"]).todense()\n",
    "vocab = np.array(tfidf_model.get_feature_names())\n",
    "\n",
    "formal_sums = pd.DataFrame(vectorised_formal.sum(axis = 0).T, index=vocab, columns = [\"Formal\"])\n",
    "casual_sums = pd.DataFrame(vectorised_casual.sum(axis = 0).T, index=vocab, columns = [\"Casual\"])\n",
    "party_sums = pd.DataFrame(vectorised_party.sum(axis = 0).T, index=vocab, columns = [\"Party\"])\n",
    "\n",
    "#Print to check!\n",
    "print(formal_sums[\"Formal\"].sort_values(ascending=False).head(8), casual_sums[\"Casual\"].sort_values(ascending=False).head(8), party_sums[\"Party\"].sort_values(ascending=False).head(8))"
   ]
  },
  {
   "cell_type": "code",
   "execution_count": null,
   "metadata": {},
   "outputs": [],
   "source": [
    "tfidf = tfidf_model.transform(dataset[\"text\"]).todense()"
   ]
  },
  {
   "cell_type": "code",
   "execution_count": null,
   "metadata": {},
   "outputs": [],
   "source": [
    "svd = TruncatedSVD(n_components = 12, n_iter = 100)\n",
    "svd_topic_model = svd.fit(tfidf)\n",
    "svd_topic_vectors = svd_topic_model.transform(tfidf)"
   ]
  },
  {
   "cell_type": "code",
   "execution_count": null,
   "metadata": {},
   "outputs": [],
   "source": [
    "#Compare TF/IDF and SVD\n",
    "\n",
    "features = [tfidf, svd_topic_vectors]\n",
    "labels = np.array(dataset[\"label\"], dtype = object)\n",
    "\n",
    "for f in features:\n",
    "    X_train, X_test, y_train, y_test = train_test_split(f, labels, test_size=0.3, random_state=0)\n",
    "    gnb = GaussianNB()\n",
    "    model = gnb.fit(X_train, y_train);\n",
    "    y_pred = model.predict(X_test)\n",
    "    num_incorrect = (y_test != y_pred).sum()\n",
    "    total = y_test.shape[0]\n",
    "    acc = (total - num_incorrect) / total * 100\n",
    "    print(\"Number of mislabeled points out of a total %d points : %d, %0.3f\" % (total, num_incorrect, acc))"
   ]
  },
  {
   "cell_type": "code",
   "execution_count": null,
   "metadata": {},
   "outputs": [],
   "source": [
    "#Choosing TF/IDF to create model.\n",
    "X_train, X_test, y_train, y_test = train_test_split(tfidf, labels, test_size=0.3, random_state=0)\n",
    "gnb = GaussianNB()\n",
    "model = gnb.fit(X_train, y_train);"
   ]
  },
  {
   "cell_type": "code",
   "execution_count": null,
   "metadata": {},
   "outputs": [],
   "source": [
    "#Pass the generated outfit desciption through the model.\n",
    "\n",
    "new_tfidf = tfidf_model.transform([outfit]).todense()\n",
    "y_pred = model.predict(new_tfidf)\n",
    "\n",
    "for i, t in enumerate([outfit]):\n",
    "    print(t,\"-> Style:\", y_pred[i])"
   ]
  },
  {
   "cell_type": "markdown",
   "metadata": {},
   "source": [
    "## Part 3 - Future Work\n",
    "\n",
    "The limitations of tracery is that the machine doesn't actually learn the garment. This means it cannot take brand new inputs that have not been categorised prior. A random input might have a better chance of working with styling accessories rather than full outfits. Below is a simple example of this. Try typing in something like 'white floral midi dress'."
   ]
  },
  {
   "cell_type": "code",
   "execution_count": null,
   "metadata": {},
   "outputs": [],
   "source": [
    "dress = input(\"Enter dress : \")\n",
    "\n",
    "rules2 = {\n",
    "    'origin2': '#[#Accessory#][#Coat#]story#',\n",
    "    'story' : ['Bought a new #input#? Accessorise with your #accessory#. You can either dress it up with your #heels# or down with your #shoes#. If it is cold, throw on your #coat#.'],\n",
    "    'input' : [dress],\n",
    "    'Accessory':[\"[Aoption:Accessory][accessory:\" + accessory + \"]\"],\n",
    "    'heels': [\"black stilletos\", \"white platform heels\", \"mustard low heels\"],\n",
    "    'shoes' : [\"white nike sneakers\",\"black mary-janes\",\"navy doc martens\", \"black converse\"],\n",
    "    'Coat' : [\"[Coption:Coat][coat:\" + coat + \"]\"]\n",
    "}\n",
    "\n",
    "grammar = tracery.Grammar(rules2)\n",
    "grammar.add_modifiers(base_english)\n",
    "new_add_in = (grammar.flatten(\"#origin2#\"))\n",
    "print(new_add_in)"
   ]
  },
  {
   "cell_type": "code",
   "execution_count": null,
   "metadata": {},
   "outputs": [],
   "source": [
    "# A simple prototype for what this might look like as an app.\n",
    "\n",
    "output1 = ipw.Textarea(placeholder=\"What should I wear today?\", layout=ipw.Layout(width=\"650px\"),  disabled=True)\n",
    "output2 = ipw.Text(placeholder=\"What does this look like?\", layout=ipw.Layout(width=\"400px\"),  disabled=True)\n",
    "\n",
    "def on_click(btn):\n",
    "    if btn.description == \"match\":\n",
    "        output1.value = outfit\n",
    "    if btn.description == \"style\":\n",
    "        output2.value = y_pred[i]\n",
    "\n",
    "def mk_btn(description):\n",
    "    btn = ipw.Button(description=description, layout=ipw.Layout(width='120px', height='70px'))\n",
    "    btn.style.button_color = 'lightblue'\n",
    "    btn.on_click(on_click)\n",
    "    return btn\n",
    "\n",
    "row0 = ipw.HBox([mk_btn(d) for d in (\"match\", \"style\")])\n",
    "ipw.VBox((output1, row0,output2))"
   ]
  }
 ],
 "metadata": {
  "kernelspec": {
   "display_name": "Python 3",
   "language": "python",
   "name": "python3"
  },
  "language_info": {
   "codemirror_mode": {
    "name": "ipython",
    "version": 3
   },
   "file_extension": ".py",
   "mimetype": "text/x-python",
   "name": "python",
   "nbconvert_exporter": "python",
   "pygments_lexer": "ipython3",
   "version": "3.8.3"
  }
 },
 "nbformat": 4,
 "nbformat_minor": 4
}
