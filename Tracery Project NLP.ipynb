{
 "cells": [
  {
   "cell_type": "code",
   "execution_count": 1,
   "metadata": {},
   "outputs": [],
   "source": [
    "import tracery\n",
    "from tracery.modifiers import base_english"
   ]
  },
  {
   "cell_type": "code",
   "execution_count": 2,
   "metadata": {},
   "outputs": [
    {
     "name": "stdout",
     "output_type": "stream",
     "text": [
      "Enter dress : white floral dress\n",
      "Bought a new white floral dress? Try pairing it with your gold feather necklace. You can either dress it up with your black stilletos or down with your white nike sneakers. If it is cold outside, throw on your tan suede jacket.\n"
     ]
    }
   ],
   "source": [
    "dress = input(\"Enter dress : \")\n",
    "#shoes = input(\"Enter shoes: \").split(\" \")\n",
    "\n",
    "#print(\"you should wear the \"+ dress)\n",
    "\n",
    "rules = {\n",
    "    'sentence': 'Bought a new #input#? Try pairing it with your #jewelery#. You can either dress it up with your #heels# or down with your #shoes#. If it is cold outside, throw on your #jacket#.',\n",
    "    'input' : [dress],\n",
    "    'jewelery': [\"gold feather necklace\",\"silver hoop earrings\",\"ruby pendant necklace\", \"black stud earrings\"],\n",
    "    'heels': [\"black stilletos\", \"white platform heels\", \"mustard low heels\"],\n",
    "    'shoes' : [\"white nike sneakers\",\"black mary-janes\",\"navy doc martens\", \"black converse\"],\n",
    "    'jacket' : [\"blue denim jacket\",\"black leather jacket\", \"tan suede jacket\", \"green wool coat\", \"navy coat\"]\n",
    "}\n",
    "\n",
    "grammar = tracery.Grammar(rules)\n",
    "grammar.add_modifiers(base_english)\n",
    "print(grammar.flatten(\"#sentence#\"))"
   ]
  },
  {
   "cell_type": "code",
   "execution_count": 8,
   "metadata": {
    "scrolled": true
   },
   "outputs": [],
   "source": [
    "from sklearn.feature_extraction.text import TfidfVectorizer\n",
    "from sklearn.feature_extraction.text import TfidfTransformer\n",
    "from sklearn.naive_bayes import GaussianNB\n",
    "from nltk.tokenize.casual import casual_tokenize\n",
    "import pandas as pd\n",
    "from sklearn.decomposition import TruncatedSVD\n",
    "import numpy as np\n",
    "from sklearn.model_selection import train_test_split"
   ]
  },
  {
   "cell_type": "code",
   "execution_count": 4,
   "metadata": {},
   "outputs": [],
   "source": [
    "dataset = pd.read_csv(\"fashiondata.csv\")"
   ]
  },
  {
   "cell_type": "code",
   "execution_count": 5,
   "metadata": {},
   "outputs": [
    {
     "name": "stderr",
     "output_type": "stream",
     "text": [
      "C:\\Users\\Nadia Alsagoff\\anaconda3\\lib\\site-packages\\sklearn\\feature_extraction\\text.py:484: UserWarning: The parameter 'token_pattern' will not be used since 'tokenizer' is not None'\n",
      "  warnings.warn(\"The parameter 'token_pattern' will not be used\"\n"
     ]
    }
   ],
   "source": [
    "vectoriser = TfidfVectorizer(tokenizer=casual_tokenize)\n",
    "tfidf_model = vectoriser.fit(dataset[\"text\"])\n",
    "tfidf = tfidf_model.transform(dataset[\"text\"]).todense()"
   ]
  },
  {
   "cell_type": "code",
   "execution_count": 6,
   "metadata": {},
   "outputs": [],
   "source": [
    "svd = TruncatedSVD(n_components = 10, n_iter = 100)\n",
    "svd_topic_model = svd.fit(tfidf)\n",
    "svd_topic_vectors = svd_topic_model.transform(tfidf)"
   ]
  },
  {
   "cell_type": "code",
   "execution_count": 9,
   "metadata": {},
   "outputs": [
    {
     "name": "stdout",
     "output_type": "stream",
     "text": [
      "Number of mislabeled points out of a total 16 points : 1, 93.750\n"
     ]
    }
   ],
   "source": [
    "features = tfidf\n",
    "labels = np.array(dataset[\"label\"], dtype = object)\n",
    "X_train, X_test, y_train, y_test = train_test_split(features, labels, test_size=0.3, random_state=0)\n",
    "gnb = GaussianNB()\n",
    "\n",
    "model = gnb.fit(X_train, y_train);\n",
    "\n",
    "y_pred = model.predict(X_test)\n",
    "num_incorrect = (y_test != y_pred).sum()\n",
    "total = y_test.shape[0]\n",
    "acc = (total - num_incorrect) / total * 100\n",
    "print(\"Number of mislabeled points out of a total %d points : %d, %0.3f\" % (total, num_incorrect, acc))"
   ]
  },
  {
   "cell_type": "code",
   "execution_count": 16,
   "metadata": {},
   "outputs": [],
   "source": [
    "my_new_text = [\"white button up shirt and black pencil skirt\"]\n",
    "new_tfidf = tfidf_model.transform(my_new_text).todense()"
   ]
  },
  {
   "cell_type": "code",
   "execution_count": 18,
   "metadata": {},
   "outputs": [
    {
     "name": "stdout",
     "output_type": "stream",
     "text": [
      "white button up shirt and black pencil skirt  -> class: Formal\n"
     ]
    }
   ],
   "source": [
    "your_new_data = new_tfidf\n",
    "y_pred = model.predict(your_new_data)\n",
    "for i, t in enumerate(my_new_text):\n",
    "    print(t,\" -> class:\", y_pred[i])"
   ]
  },
  {
   "cell_type": "code",
   "execution_count": null,
   "metadata": {},
   "outputs": [],
   "source": []
  }
 ],
 "metadata": {
  "kernelspec": {
   "display_name": "Python 3",
   "language": "python",
   "name": "python3"
  },
  "language_info": {
   "codemirror_mode": {
    "name": "ipython",
    "version": 3
   },
   "file_extension": ".py",
   "mimetype": "text/x-python",
   "name": "python",
   "nbconvert_exporter": "python",
   "pygments_lexer": "ipython3",
   "version": "3.8.3"
  }
 },
 "nbformat": 4,
 "nbformat_minor": 4
}
